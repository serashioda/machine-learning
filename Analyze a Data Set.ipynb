{
 "cells": [
  {
   "cell_type": "markdown",
   "metadata": {},
   "source": [
    "Sera Smith 02/04/17"
   ]
  },
  {
   "cell_type": "code",
   "execution_count": 3,
   "metadata": {
    "collapsed": true
   },
   "outputs": [],
   "source": [
    "import pandas as pd\n",
    "import matplotlib.pyplot as plt\n",
    "import os"
   ]
  },
  {
   "cell_type": "markdown",
   "metadata": {},
   "source": [
    "- **Data Set Characteristics:**  Multivariate\n",
    "- **Number of Instances:** 506\n",
    "- **Area:** N/A\n",
    "- **Attribute Characteristics:** Categorical, Integer, Real\n",
    "- **Number of Attributes:** 14\n",
    "- **Date Donated:** 1993-07-07\n",
    "- **Associated Tasks:** Regression\n",
    "- **Missing Values?** No\n",
    "- **Number of Web Hits:** 280839\n",
    "\n",
    "#### Data Set Information: \n",
    "Concerns housing values in suburbs of Boston.\n",
    "\n",
    "#### Attribute Information:\n",
    "1. CRIM: per capita crime rate by town \n",
    "2. ZN: proportion of residential land zoned for lots over 25,000 sq.ft. \n",
    "3. INDUS: proportion of non-retail business acres per town \n",
    "4. CHAS: Charles River dummy variable (= 1 if tract bounds river; 0 otherwise) \n",
    "5. NOX: nitric oxides concentration (parts per 10 million) \n",
    "6. RM: average number of rooms per dwelling \n",
    "7. AGE: proportion of owner-occupied units built prior to 1940 \n",
    "8. DIS: weighted distances to five Boston employment centres \n",
    "9. RAD: index of accessibility to radial highways \n",
    "10. TAX: full-value property-tax rate per ```$10,000```\n",
    "11. PTRATIO: pupil-teacher ratio by town \n",
    "12. B: 1000(Bk - 0.63)^2 where Bk is the proportion of blacks by town \n",
    "13. LSTAT: % lower status of the population \n",
    "14. MEDV: Median value of owner-occupied homes in $1000's"
   ]
  },
  {
   "cell_type": "code",
   "execution_count": null,
   "metadata": {
    "collapsed": false
   },
   "outputs": [],
   "source": [
    "print(os.getcwd() + '/boston_housing_data.csv')\n",
    "data = pd.read_csv(os.getcwd() + '/boston_housing_data.csv', \n",
    "                   names = ['del', 'CRIM', 'ZN', 'INDUS', 'CHAS', 'NOX',\n",
    "                            'RM', 'AGE', 'DIS', 'RAD', 'TAX', 'PTRATIO', \n",
    "                            'B', 'LSTAT', 'MEDV'])\n",
    "del data['del']\n",
    "data"
   ]
  },
  {
   "cell_type": "code",
   "execution_count": null,
   "metadata": {
    "collapsed": true
   },
   "outputs": [],
   "source": []
  }
 ],
 "metadata": {
  "kernelspec": {
   "display_name": "Python 3",
   "language": "python",
   "name": "python3"
  },
  "language_info": {
   "codemirror_mode": {
    "name": "ipython",
    "version": 3
   },
   "file_extension": ".py",
   "mimetype": "text/x-python",
   "name": "python",
   "nbconvert_exporter": "python",
   "pygments_lexer": "ipython3",
   "version": "3.5.2"
  }
 },
 "nbformat": 4,
 "nbformat_minor": 2
}
